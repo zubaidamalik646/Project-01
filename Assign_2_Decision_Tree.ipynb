{
 "cells": [
  {
   "cell_type": "code",
   "execution_count": 5,
   "id": "260dd3fc-1aa7-46c3-8f6f-6796dc41af45",
   "metadata": {},
   "outputs": [
    {
     "name": "stdout",
     "output_type": "stream",
     "text": [
      "Requirement already satisfied: numpy==1.26.4 in /Users/abbas/anaconda3/lib/python3.11/site-packages (1.26.4)\n",
      "Requirement already satisfied: pandas==2.1.4 in /Users/abbas/anaconda3/lib/python3.11/site-packages (2.1.4)\n",
      "Requirement already satisfied: numpy<2,>=1.23.2 in /Users/abbas/anaconda3/lib/python3.11/site-packages (from pandas==2.1.4) (1.26.4)\n",
      "Requirement already satisfied: python-dateutil>=2.8.2 in /Users/abbas/anaconda3/lib/python3.11/site-packages (from pandas==2.1.4) (2.8.2)\n",
      "Requirement already satisfied: pytz>=2020.1 in /Users/abbas/anaconda3/lib/python3.11/site-packages (from pandas==2.1.4) (2023.3.post1)\n",
      "Requirement already satisfied: tzdata>=2022.1 in /Users/abbas/anaconda3/lib/python3.11/site-packages (from pandas==2.1.4) (2023.3)\n",
      "Requirement already satisfied: six>=1.5 in /Users/abbas/anaconda3/lib/python3.11/site-packages (from python-dateutil>=2.8.2->pandas==2.1.4) (1.16.0)\n"
     ]
    }
   ],
   "source": [
    "!pip install numpy==1.26.4\n",
    "!pip install pandas==2.1.4"
   ]
  },
  {
   "cell_type": "code",
   "execution_count": 3,
   "id": "76a9cea3-0b93-4e01-8c7e-8783078f425b",
   "metadata": {},
   "outputs": [],
   "source": [
    "import numpy as np\n",
    "import pandas as pd\n",
    "import matplotlib.pyplot as plt"
   ]
  },
  {
   "cell_type": "code",
   "execution_count": 4,
   "id": "7e6c7eaa-edf4-4ec4-b850-474b2a541c4d",
   "metadata": {},
   "outputs": [],
   "source": [
    "data = pd.read_csv('car.data')"
   ]
  },
  {
   "cell_type": "code",
   "execution_count": 8,
   "id": "57e0f3b2-5b64-4eff-bae8-bb7908a41946",
   "metadata": {},
   "outputs": [
    {
     "name": "stdout",
     "output_type": "stream",
     "text": [
      "Index(['vhigh', 'vhigh.1', '2', '2.1', 'small', 'low', 'unacc'], dtype='object')\n"
     ]
    }
   ],
   "source": [
    "print(data.columns)"
   ]
  },
  {
   "cell_type": "code",
   "execution_count": 3,
   "id": "2a39ab03-7636-40d0-83be-7f2b406581bc",
   "metadata": {},
   "outputs": [
    {
     "data": {
      "text/html": [
       "<div>\n",
       "<style scoped>\n",
       "    .dataframe tbody tr th:only-of-type {\n",
       "        vertical-align: middle;\n",
       "    }\n",
       "\n",
       "    .dataframe tbody tr th {\n",
       "        vertical-align: top;\n",
       "    }\n",
       "\n",
       "    .dataframe thead th {\n",
       "        text-align: right;\n",
       "    }\n",
       "</style>\n",
       "<table border=\"1\" class=\"dataframe\">\n",
       "  <thead>\n",
       "    <tr style=\"text-align: right;\">\n",
       "      <th></th>\n",
       "      <th>buying</th>\n",
       "      <th>maint</th>\n",
       "      <th>doors</th>\n",
       "      <th>persons</th>\n",
       "      <th>lug_boot</th>\n",
       "      <th>safety</th>\n",
       "      <th>class</th>\n",
       "    </tr>\n",
       "  </thead>\n",
       "  <tbody>\n",
       "    <tr>\n",
       "      <th>0</th>\n",
       "      <td>vhigh</td>\n",
       "      <td>vhigh</td>\n",
       "      <td>2</td>\n",
       "      <td>2</td>\n",
       "      <td>small</td>\n",
       "      <td>med</td>\n",
       "      <td>unacc</td>\n",
       "    </tr>\n",
       "    <tr>\n",
       "      <th>1</th>\n",
       "      <td>vhigh</td>\n",
       "      <td>vhigh</td>\n",
       "      <td>2</td>\n",
       "      <td>2</td>\n",
       "      <td>small</td>\n",
       "      <td>high</td>\n",
       "      <td>unacc</td>\n",
       "    </tr>\n",
       "    <tr>\n",
       "      <th>2</th>\n",
       "      <td>vhigh</td>\n",
       "      <td>vhigh</td>\n",
       "      <td>2</td>\n",
       "      <td>2</td>\n",
       "      <td>med</td>\n",
       "      <td>low</td>\n",
       "      <td>unacc</td>\n",
       "    </tr>\n",
       "    <tr>\n",
       "      <th>3</th>\n",
       "      <td>vhigh</td>\n",
       "      <td>vhigh</td>\n",
       "      <td>2</td>\n",
       "      <td>2</td>\n",
       "      <td>med</td>\n",
       "      <td>med</td>\n",
       "      <td>unacc</td>\n",
       "    </tr>\n",
       "    <tr>\n",
       "      <th>4</th>\n",
       "      <td>vhigh</td>\n",
       "      <td>vhigh</td>\n",
       "      <td>2</td>\n",
       "      <td>2</td>\n",
       "      <td>med</td>\n",
       "      <td>high</td>\n",
       "      <td>unacc</td>\n",
       "    </tr>\n",
       "  </tbody>\n",
       "</table>\n",
       "</div>"
      ],
      "text/plain": [
       "  buying  maint doors persons lug_boot safety  class\n",
       "0  vhigh  vhigh     2       2    small    med  unacc\n",
       "1  vhigh  vhigh     2       2    small   high  unacc\n",
       "2  vhigh  vhigh     2       2      med    low  unacc\n",
       "3  vhigh  vhigh     2       2      med    med  unacc\n",
       "4  vhigh  vhigh     2       2      med   high  unacc"
      ]
     },
     "execution_count": 3,
     "metadata": {},
     "output_type": "execute_result"
    }
   ],
   "source": [
    "col_names = ['buying', 'maint', 'doors', 'persons', 'lug_boot', 'safety', 'class']\n",
    "data.columns = col_names\n",
    "data.head()"
   ]
  },
  {
   "cell_type": "code",
   "execution_count": 4,
   "id": "d5a44c05-bc7f-4b93-a791-f78b48fc5845",
   "metadata": {},
   "outputs": [
    {
     "data": {
      "text/plain": [
       "array(['unacc', 'acc', 'vgood', 'good'], dtype=object)"
      ]
     },
     "execution_count": 4,
     "metadata": {},
     "output_type": "execute_result"
    }
   ],
   "source": [
    "data['class'].unique()"
   ]
  },
  {
   "cell_type": "code",
   "execution_count": 5,
   "id": "d09049c4-8e74-43cb-ac6e-7f5572ae6cbf",
   "metadata": {},
   "outputs": [
    {
     "name": "stdout",
     "output_type": "stream",
     "text": [
      "(1727, 21)\n",
      "(1727,)\n"
     ]
    }
   ],
   "source": [
    "cat_data = pd.get_dummies(data, columns=['buying', 'maint', 'doors', 'persons', 'lug_boot', 'safety'])\n",
    "data_x = cat_data.drop('class', axis=1).astype(int)\n",
    "cat_data['class'] = cat_data['class'].replace(['acc', 'good', 'vgood'], 'acc')\n",
    "data_y = cat_data['class'].replace({'unacc': 0, 'acc': 1})\n",
    "print(data_x.shape)\n",
    "print(data_y.shape)\n",
    "comb_data = pd.concat([data_x, data_y], axis=1)"
   ]
  },
  {
   "cell_type": "code",
   "execution_count": 18,
   "id": "9a7587ce-caeb-467e-8159-d664c791798d",
   "metadata": {},
   "outputs": [],
   "source": [
    "def train_test_split(data, test_size = 0.2):\n",
    "    num_samples = len(data)\n",
    "    num_train_samples = int(num_samples * (1 - test_size))\n",
    "    num_test_samples = num_samples - num_train_samples\n",
    "\n",
    "    # Split the dataset\n",
    "    train_data = data.iloc[:num_train_samples]\n",
    "    test_data = data.iloc[num_train_samples:]\n",
    "\n",
    "    # Extract features and target for training and testing sets\n",
    "    X_train = train_data.iloc[:, :-1].values.astype('int64')\n",
    "    y_train = train_data.iloc[:, -1].values.astype('int64')\n",
    "    X_test = test_data.iloc[:, :-1].values.astype('int64')\n",
    "    y_test = test_data.iloc[:, -1].values.astype('int64')\n",
    "\n",
    "    return X_train, X_test, y_train, y_test"
   ]
  },
  {
   "cell_type": "code",
   "execution_count": 28,
   "id": "279ce3d3-e927-4bf3-8fee-6a2228d5c118",
   "metadata": {},
   "outputs": [
    {
     "name": "stdout",
     "output_type": "stream",
     "text": [
      "(1381, 21)\n",
      "(1381,)\n"
     ]
    }
   ],
   "source": [
    "X_train, X_test, y_train, y_test = train_test_split(comb_data, test_size = 0.2)\n",
    "print(X_train.shape)\n",
    "print(y_train.shape)"
   ]
  },
  {
   "cell_type": "code",
   "execution_count": 20,
   "id": "b60e6d1e-7a1d-46bc-a308-da5dff430372",
   "metadata": {},
   "outputs": [],
   "source": [
    "class Node:\n",
    "    def __init__(self, feature_index=None, threshold=None, left=None, right=None, value=None):\n",
    "        self.feature_index = feature_index  # Index of the feature to split on\n",
    "        self.threshold = threshold          # Threshold value for the feature\n",
    "        self.left = left                    # Left child node\n",
    "        self.right = right                  # Right child node\n",
    "        self.value = value                  # Value (class) if the node is a leaf\n",
    "\n",
    "class DecisionTreeClassifier:\n",
    "    def __init__(self, max_depth=None, min_samples_split=2):\n",
    "        self.max_depth = max_depth                  # Maximum depth of the tree\n",
    "        self.min_samples_split = min_samples_split  # Minimum number of samples required to split a node\n",
    "\n",
    "    def fit(self, X, y):\n",
    "        self.num_classes = len(np.unique(y))\n",
    "        self.root = self._grow_tree(X, y)\n",
    "\n",
    "    def _grow_tree(self, X, y, depth=0):\n",
    "        num_samples, num_features = X.shape\n",
    "        num_samples_per_class = [np.sum(y == i) for i in range(self.num_classes)]\n",
    "        majority_class = np.argmax(num_samples_per_class)\n",
    "\n",
    "        # Stopping criteria\n",
    "        if (self.max_depth is not None and depth == self.max_depth) or \\\n",
    "           (np.sum(y == y[0]) == len(y)) or \\\n",
    "           (num_samples < self.min_samples_split):\n",
    "            return Node(value=majority_class)\n",
    "\n",
    "        best_gini = float('inf')\n",
    "        best_feature_index = None\n",
    "        best_threshold = None\n",
    "\n",
    "        for feature_index in range(num_features):\n",
    "            thresholds = np.unique(X[:, feature_index])\n",
    "            for threshold in thresholds:\n",
    "                left_indices = np.where(X[:, feature_index] <= threshold)[0]\n",
    "                right_indices = np.where(X[:, feature_index] > threshold)[0]\n",
    "\n",
    "                left_gini = self._gini_impurity(y[left_indices])\n",
    "                right_gini = self._gini_impurity(y[right_indices])\n",
    "\n",
    "                gini = (len(left_indices) / num_samples) * left_gini + \\\n",
    "                       (len(right_indices) / num_samples) * right_gini\n",
    "\n",
    "                if gini < best_gini:\n",
    "                    best_gini = gini\n",
    "                    best_feature_index = feature_index\n",
    "                    best_threshold = threshold\n",
    "\n",
    "        if best_gini == float('inf'):\n",
    "            return Node(value=majority_class)\n",
    "\n",
    "        left_indices = np.where(X[:, best_feature_index] <= best_threshold)[0]\n",
    "        right_indices = np.where(X[:, best_feature_index] > best_threshold)[0]\n",
    "\n",
    "        left_subtree = self._grow_tree(X[left_indices, :], y[left_indices], depth + 1)\n",
    "        right_subtree = self._grow_tree(X[right_indices, :], y[right_indices], depth + 1)\n",
    "\n",
    "        return Node(feature_index=best_feature_index, threshold=best_threshold,\n",
    "                    left=left_subtree, right=right_subtree)\n",
    "\n",
    "    def _gini_impurity(self, y):\n",
    "        num_samples = len(y)\n",
    "        if num_samples == 0:\n",
    "            return 0\n",
    "        p = np.bincount(y) / num_samples\n",
    "        return 1 - np.sum(p ** 2)\n",
    "\n",
    "    def predict(self, X):\n",
    "        return np.array([self._predict_tree(x, self.root) for x in X])\n",
    "\n",
    "    def _predict_tree(self, x, node):\n",
    "        if node.value is not None:\n",
    "            return node.value\n",
    "        if x[node.feature_index] <= node.threshold:\n",
    "            return self._predict_tree(x, node.left)\n",
    "        else:\n",
    "            return self._predict_tree(x, node.right)\n"
   ]
  },
  {
   "cell_type": "code",
   "execution_count": 21,
   "id": "7667d1f2-4f07-4247-aa51-0e5569dac7d0",
   "metadata": {},
   "outputs": [],
   "source": [
    "def compute_metrics(y_true, y_pred):\n",
    "    \"\"\"\n",
    "    Compute accuracy, precision, recall, and F1-score.\n",
    "\n",
    "    Args:\n",
    "    y_true (numpy.ndarray): The true labels.\n",
    "    y_pred (numpy.ndarray): The predicted labels.\n",
    "\n",
    "    Returns:\n",
    "    dict: Dictionary containing accuracy, precision, recall, and F1-score.\n",
    "    \"\"\"\n",
    "    # Compute accuracy\n",
    "    accuracy = np.mean(y_true == y_pred)\n",
    "\n",
    "    # Compute confusion matrix\n",
    "    tp = np.sum((y_true == 1) & (y_pred == 1))\n",
    "    fp = np.sum((y_true == 0) & (y_pred == 1))\n",
    "    fn = np.sum((y_true == 1) & (y_pred == 0))\n",
    "    tn = np.sum((y_true == 0) & (y_pred == 0))\n",
    "\n",
    "    # Compute precision\n",
    "    precision = tp / (tp + fp) if (tp + fp) > 0 else 0\n",
    "\n",
    "    # Compute recall\n",
    "    recall = tp / (tp + fn) if (tp + fn) > 0 else 0\n",
    "\n",
    "    # Compute F1-score\n",
    "    f1_score = 2 * precision * recall / (precision + recall) if (precision + recall) > 0 else 0\n",
    "\n",
    "    return {'accuracy': accuracy, 'precision': precision, 'recall': recall, 'f1_score': f1_score}\n"
   ]
  },
  {
   "cell_type": "code",
   "execution_count": 22,
   "id": "c4522959-64db-4d09-9fff-d2ec9545bf1a",
   "metadata": {},
   "outputs": [],
   "source": [
    "clf = DecisionTreeClassifier(max_depth=4)\n",
    "clf.fit(X_train, y_train)\n",
    "y_pred = clf.predict(X_test)"
   ]
  },
  {
   "cell_type": "code",
   "execution_count": 24,
   "id": "255e5f60-8a09-46d3-8af3-75b10b184981",
   "metadata": {},
   "outputs": [
    {
     "name": "stdout",
     "output_type": "stream",
     "text": [
      "Decision Tree:\n",
      "Internal Node - Splitting Criteria: Feature 12 Threshold: 0\n",
      "Left Subtree:\n",
      "  Internal Node - Splitting Criteria: Feature 19 Threshold: 0\n",
      "  Left Subtree:\n",
      "    Internal Node - Splitting Criteria: Feature 2 Threshold: 0\n",
      "    Left Subtree:\n",
      "      Internal Node - Splitting Criteria: Feature 7 Threshold: 0\n",
      "      Left Subtree:\n",
      "        Leaf Node - Predicted Class: 1\n",
      "      Right Subtree:\n",
      "        Leaf Node - Predicted Class: 0\n",
      "    Right Subtree:\n",
      "      Internal Node - Splitting Criteria: Feature 17 Threshold: 0\n",
      "      Left Subtree:\n",
      "        Leaf Node - Predicted Class: 1\n",
      "      Right Subtree:\n",
      "        Leaf Node - Predicted Class: 1\n",
      "  Right Subtree:\n",
      "    Leaf Node - Predicted Class: 0\n",
      "Right Subtree:\n",
      "  Leaf Node - Predicted Class: 0\n"
     ]
    }
   ],
   "source": [
    "def print_decision_tree(node, indent=\"\"):\n",
    "    if node is None:\n",
    "        return\n",
    "    \n",
    "    # If it's a leaf node, print the predicted class\n",
    "    if node.value is not None:\n",
    "        print(indent + \"Leaf Node - Predicted Class:\", node.value)\n",
    "    else:\n",
    "        # Print splitting criteria\n",
    "        print(indent + \"Internal Node - Splitting Criteria: Feature\", node.feature_index, \"Threshold:\", node.threshold)\n",
    "        \n",
    "        # Recursively print left and right subtrees\n",
    "        print(indent + \"Left Subtree:\")\n",
    "        print_decision_tree(node.left, indent + \"  \")\n",
    "        print(indent + \"Right Subtree:\")\n",
    "        print_decision_tree(node.right, indent + \"  \")\n",
    "\n",
    "# Example usage:\n",
    "print(\"Decision Tree:\")\n",
    "print_decision_tree(clf.root)"
   ]
  },
  {
   "cell_type": "code",
   "execution_count": 25,
   "id": "c90b8803-5cda-4b30-a347-15ca870f4298",
   "metadata": {},
   "outputs": [
    {
     "name": "stdout",
     "output_type": "stream",
     "text": [
      "{'accuracy': 0.953757225433526, 'precision': 0.9583333333333334, 'recall': 0.9324324324324325, 'f1_score': 0.9452054794520548}\n"
     ]
    }
   ],
   "source": [
    "metrices = compute_metrics(y_test, y_pred)\n",
    "print(metrices)"
   ]
  },
  {
   "cell_type": "code",
   "execution_count": 26,
   "id": "123f72d0-65e0-4006-ae73-e0368e456daa",
   "metadata": {},
   "outputs": [
    {
     "data": {
      "image/png": "[encoded data removed]",
      "text/plain": [
       "<Figure size 800x600 with 1 Axes>"
      ]
     },
     "metadata": {},
     "output_type": "display_data"
    }
   ],
   "source": [
    "def plot_metrics(metrics):\n",
    "    \"\"\"\n",
    "    Plot the metrics.\n",
    "\n",
    "    Args:\n",
    "    metrics (dict): Dictionary containing accuracy, precision, recall, and F1-score.\n",
    "    \"\"\"\n",
    "    labels = list(metrics.keys())\n",
    "    values = list(metrics.values())\n",
    "\n",
    "    plt.figure(figsize=(8, 6))\n",
    "    plt.bar(labels, values, color=['blue', 'green', 'orange', 'red'])\n",
    "    plt.xlabel('Metrics')\n",
    "    plt.ylabel('Values')\n",
    "    plt.title('Model Performance Metrics')\n",
    "    plt.show()\n",
    "\n",
    "# Plot the metrics\n",
    "plot_metrics(metrices)"
   ]
  },
  {
   "cell_type": "code",
   "execution_count": null,
   "id": "0a1ed847-a73e-4107-bf71-0390fa61daed",
   "metadata": {},
   "outputs": [],
   "source": [
    "# Plot true values\n",
    "plt.scatter(range(len(y_test)), y_test, color='blue', label='True', marker='o')\n",
    "\n",
    "# Plot predicted values\n",
    "plt.scatter(range(len(y_pred)), y_pre, color='red', label='Predicted', marker='x')\n",
    "\n",
    "plt.xlabel('Sample Index')\n",
    "plt.ylabel('Class')\n",
    "plt.title('True vs Predicted Values')\n",
    "plt.legend()\n",
    "plt.savefig('true vs predicted plot.jpg')"
   ]
  }
 ],
 "metadata": {
  "kernelspec": {
   "display_name": "Python 3 (ipykernel)",
   "language": "python",
   "name": "python3"
  },
  "language_info": {
   "codemirror_mode": {
    "name": "ipython",
    "version": 3
   },
   "file_extension": ".py",
   "mimetype": "text/x-python",
   "name": "python",
   "nbconvert_exporter": "python",
   "pygments_lexer": "ipython3",
   "version": "3.11.5"
  }
 },
 "nbformat": 4,
 "nbformat_minor": 5
}
