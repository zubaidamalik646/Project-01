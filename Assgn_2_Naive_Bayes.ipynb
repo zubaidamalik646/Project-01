{
 "cells": [
  {
   "cell_type": "code",
   "execution_count": 1,
   "id": "708b3d56-295e-48dc-99b9-903945d14292",
   "metadata": {},
   "outputs": [],
   "source": [
    "import numpy as np\n",
    "import pandas as pd\n",
    "import matplotlib.pyplot as plt"
   ]
  },
  {
   "cell_type": "code",
   "execution_count": 2,
   "id": "266e3723-7351-4cbd-a1ec-fa37369d3f78",
   "metadata": {},
   "outputs": [
    {
     "name": "stdout",
     "output_type": "stream",
     "text": [
      "(1727, 7)\n",
      "Index(['vhigh', 'vhigh.1', '2', '2.1', 'small', 'low', 'unacc'], dtype='object')\n"
     ]
    }
   ],
   "source": [
    "data = pd.read_csv('car.data')\n",
    "print(data.shape)\n",
    "print(data.columns)"
   ]
  },
  {
   "cell_type": "code",
   "execution_count": 3,
   "id": "47a79e1a-55fe-4541-a131-a6a4b069eed9",
   "metadata": {},
   "outputs": [
    {
     "data": {
      "text/html": [
       "<div>\n",
       "<style scoped>\n",
       "    .dataframe tbody tr th:only-of-type {\n",
       "        vertical-align: middle;\n",
       "    }\n",
       "\n",
       "    .dataframe tbody tr th {\n",
       "        vertical-align: top;\n",
       "    }\n",
       "\n",
       "    .dataframe thead th {\n",
       "        text-align: right;\n",
       "    }\n",
       "</style>\n",
       "<table border=\"1\" class=\"dataframe\">\n",
       "  <thead>\n",
       "    <tr style=\"text-align: right;\">\n",
       "      <th></th>\n",
       "      <th>buying</th>\n",
       "      <th>maint</th>\n",
       "      <th>doors</th>\n",
       "      <th>persons</th>\n",
       "      <th>lug_boot</th>\n",
       "      <th>safety</th>\n",
       "      <th>class</th>\n",
       "    </tr>\n",
       "  </thead>\n",
       "  <tbody>\n",
       "    <tr>\n",
       "      <th>0</th>\n",
       "      <td>vhigh</td>\n",
       "      <td>vhigh</td>\n",
       "      <td>2</td>\n",
       "      <td>2</td>\n",
       "      <td>small</td>\n",
       "      <td>med</td>\n",
       "      <td>unacc</td>\n",
       "    </tr>\n",
       "    <tr>\n",
       "      <th>1</th>\n",
       "      <td>vhigh</td>\n",
       "      <td>vhigh</td>\n",
       "      <td>2</td>\n",
       "      <td>2</td>\n",
       "      <td>small</td>\n",
       "      <td>high</td>\n",
       "      <td>unacc</td>\n",
       "    </tr>\n",
       "    <tr>\n",
       "      <th>2</th>\n",
       "      <td>vhigh</td>\n",
       "      <td>vhigh</td>\n",
       "      <td>2</td>\n",
       "      <td>2</td>\n",
       "      <td>med</td>\n",
       "      <td>low</td>\n",
       "      <td>unacc</td>\n",
       "    </tr>\n",
       "    <tr>\n",
       "      <th>3</th>\n",
       "      <td>vhigh</td>\n",
       "      <td>vhigh</td>\n",
       "      <td>2</td>\n",
       "      <td>2</td>\n",
       "      <td>med</td>\n",
       "      <td>med</td>\n",
       "      <td>unacc</td>\n",
       "    </tr>\n",
       "    <tr>\n",
       "      <th>4</th>\n",
       "      <td>vhigh</td>\n",
       "      <td>vhigh</td>\n",
       "      <td>2</td>\n",
       "      <td>2</td>\n",
       "      <td>med</td>\n",
       "      <td>high</td>\n",
       "      <td>unacc</td>\n",
       "    </tr>\n",
       "  </tbody>\n",
       "</table>\n",
       "</div>"
      ],
      "text/plain": [
       "  buying  maint doors persons lug_boot safety  class\n",
       "0  vhigh  vhigh     2       2    small    med  unacc\n",
       "1  vhigh  vhigh     2       2    small   high  unacc\n",
       "2  vhigh  vhigh     2       2      med    low  unacc\n",
       "3  vhigh  vhigh     2       2      med    med  unacc\n",
       "4  vhigh  vhigh     2       2      med   high  unacc"
      ]
     },
     "execution_count": 3,
     "metadata": {},
     "output_type": "execute_result"
    }
   ],
   "source": [
    "col_names = ['buying', 'maint', 'doors', 'persons', 'lug_boot', 'safety', 'class']\n",
    "data.columns = col_names\n",
    "data.head()"
   ]
  },
  {
   "cell_type": "code",
   "execution_count": 4,
   "id": "26da865f-5f9e-45aa-8ad3-eb2787749f57",
   "metadata": {},
   "outputs": [
    {
     "name": "stdout",
     "output_type": "stream",
     "text": [
      "(1727, 21)\n",
      "(1727,)\n"
     ]
    }
   ],
   "source": [
    "new_data = pd.get_dummies(data, columns=['buying', 'maint', 'doors', 'persons', 'lug_boot', 'safety'])\n",
    "X = new_data.drop('class', axis=1).astype(int)\n",
    "Y = new_data['class'].replace({'unacc': 0, 'acc': 1, 'good':2, 'vgood':3})\n",
    "print(X.shape)\n",
    "print(Y.shape)\n",
    "dataset = pd.concat([X, Y], axis=1)"
   ]
  },
  {
   "cell_type": "code",
   "execution_count": 5,
   "id": "ddd01fa4-6901-4c67-bf5d-f48e60bd47cc",
   "metadata": {},
   "outputs": [],
   "source": [
    "def train_test_split(data, test_size = 0.2):\n",
    "    num_samples = len(data)\n",
    "    num_train_samples = int(num_samples * (1 - test_size))\n",
    "    num_test_samples = num_samples - num_train_samples\n",
    "\n",
    "    # Split the dataset\n",
    "    train_data = data.iloc[:num_train_samples]\n",
    "    test_data = data.iloc[num_train_samples:]\n",
    "\n",
    "    # Extract features and target for training and testing sets\n",
    "    X_train = train_data.iloc[:, :-1].values\n",
    "    y_train = train_data.iloc[:, -1].values\n",
    "    X_test = test_data.iloc[:, :-1].values\n",
    "    y_test = test_data.iloc[:, -1].values\n",
    "\n",
    "    return X_train, X_test, y_train, y_test"
   ]
  },
  {
   "cell_type": "code",
   "execution_count": 6,
   "id": "cda05eab-7640-4175-af47-34d53b69f343",
   "metadata": {},
   "outputs": [],
   "source": [
    "X_train, X_test, y_train, y_test = train_test_split(dataset, test_size = 0.2)"
   ]
  },
  {
   "cell_type": "code",
   "execution_count": 7,
   "id": "5352e624-2e7e-4238-869a-fe2810670d5a",
   "metadata": {},
   "outputs": [],
   "source": [
    "class MultinomialNaiveBayes:\n",
    "    def __init__(self):\n",
    "        self.class_prior = None\n",
    "        self.feature_likelihood = None\n",
    "        self.num_classes = 4\n",
    "\n",
    "    def fit(self, X_train, y_train, alpha=1.0):\n",
    "        \"\"\"\n",
    "        Fit the Naive Bayes classifier to the training data.\n",
    "\n",
    "        Parameters:\n",
    "        X_train (numpy.ndarray): The training features.\n",
    "        y_train (numpy.ndarray): The training labels.\n",
    "        alpha (float): Smoothing parameter (default is 1.0 for Laplace smoothing).\n",
    "        \"\"\"\n",
    "        num_samples, num_features = X_train.shape\n",
    "        self.num_classes = np.max(y_train) + 1\n",
    "        self.class_prior = np.zeros(self.num_classes)\n",
    "        self.feature_likelihood = np.zeros((self.num_classes, num_features))\n",
    "\n",
    "        # Calculate class prior probabilities\n",
    "        for c in range(self.num_classes):\n",
    "            self.class_prior[c] = np.sum(y_train == c) / num_samples\n",
    "\n",
    "        # Calculate feature likelihoods\n",
    "        for c in range(self.num_classes):\n",
    "            class_samples = X_train[y_train == c]\n",
    "            total_count = np.sum(class_samples) + alpha * num_features  # Laplace smoothing\n",
    "            self.feature_likelihood[c] = (np.sum(class_samples, axis=0) + alpha) / total_count\n",
    "\n",
    "    def predict(self, X_test):\n",
    "        \"\"\"\n",
    "        Predict the class labels for the test data.\n",
    "\n",
    "        Parameters:\n",
    "        X_test (numpy.ndarray): The test features.\n",
    "\n",
    "        Returns:\n",
    "        numpy.ndarray: Predicted class labels.\n",
    "        \"\"\"\n",
    "        num_samples, num_features = X_test.shape\n",
    "        predictions = np.zeros(num_samples, dtype=int)\n",
    "\n",
    "        # Calculate posterior probabilities for each sample\n",
    "        for i in range(num_samples):\n",
    "            posteriors = np.zeros(self.num_classes)\n",
    "            for c in range(self.num_classes):\n",
    "                posterior = np.log(self.class_prior[c]) + np.sum(np.log(self.feature_likelihood[c][X_test[i] > 0]))\n",
    "                posteriors[c] = posterior\n",
    "            predictions[i] = np.argmax(posteriors)\n",
    "\n",
    "        return predictions\n",
    "nb_classifier = MultinomialNaiveBayes()\n",
    "nb_classifier.fit(X_train, y_train)\n",
    "\n",
    "# Predict\n",
    "prediction = nb_classifier.predict(X_test)"
   ]
  },
  {
   "cell_type": "code",
   "execution_count": 8,
   "id": "c1760a68-ed67-4303-805e-95a0c627bfba",
   "metadata": {},
   "outputs": [],
   "source": [
    "def compute_metrics(y_true, y_pred):\n",
    "    \"\"\"\n",
    "    Compute accuracy, precision, recall, and F1-score.\n",
    "\n",
    "    Args:\n",
    "    y_true (numpy.ndarray): The true labels.\n",
    "    y_pred (numpy.ndarray): The predicted labels.\n",
    "\n",
    "    Returns:\n",
    "    dict: Dictionary containing accuracy, precision, recall, and F1-score.\n",
    "    \"\"\"\n",
    "    # Compute accuracy\n",
    "    accuracy = np.mean(y_true == y_pred)\n",
    "\n",
    "    # Compute confusion matrix\n",
    "    tp = np.sum((y_true == 1) & (y_pred == 1))\n",
    "    fp = np.sum((y_true == 0) & (y_pred == 1))\n",
    "    fn = np.sum((y_true == 1) & (y_pred == 0))\n",
    "    tn = np.sum((y_true == 0) & (y_pred == 0))\n",
    "\n",
    "    # Compute precision\n",
    "    precision = tp / (tp + fp) if (tp + fp) > 0 else 0\n",
    "\n",
    "    # Compute recall\n",
    "    recall = tp / (tp + fn) if (tp + fn) > 0 else 0\n",
    "\n",
    "    # Compute F1-score\n",
    "    f1_score = 2 * precision * recall / (precision + recall) if (precision + recall) > 0 else 0\n",
    "\n",
    "    return {'accuracy': accuracy, 'precision': precision, 'recall': recall, 'f1_score': f1_score}\n"
   ]
  },
  {
   "cell_type": "code",
   "execution_count": 9,
   "id": "0946591c-a3ec-47fa-be07-56da699c04aa",
   "metadata": {},
   "outputs": [
    {
     "name": "stdout",
     "output_type": "stream",
     "text": [
      "{'accuracy': 0.6763005780346821, 'precision': 0.95, 'recall': 0.6031746031746031, 'f1_score': 0.7378640776699029}\n"
     ]
    }
   ],
   "source": [
    "metrices = compute_metrics(y_test, prediction)\n",
    "print(metrices)"
   ]
  },
  {
   "cell_type": "code",
   "execution_count": 10,
   "id": "2cdfcda7-06b8-423a-8325-6c504aa83bd9",
   "metadata": {},
   "outputs": [
    {
     "data": {
      "image/png": "[encoded data removed]",
      "text/plain": [
       "<Figure size 800x600 with 1 Axes>"
      ]
     },
     "metadata": {},
     "output_type": "display_data"
    }
   ],
   "source": [
    "def plot_metrics(metrics):\n",
    "    \"\"\"\n",
    "    Plot the metrics.\n",
    "\n",
    "    Args:\n",
    "    metrics (dict): Dictionary containing accuracy, precision, recall, and F1-score.\n",
    "    \"\"\"\n",
    "    labels = list(metrics.keys())\n",
    "    values = list(metrics.values())\n",
    "\n",
    "    plt.figure(figsize=(8, 6))\n",
    "    plt.bar(labels, values, color=['blue', 'green', 'orange', 'red'])\n",
    "    plt.xlabel('Metrics')\n",
    "    plt.ylabel('Values')\n",
    "    plt.title('Model Performance Metrics')\n",
    "    plt.savefig('metrics plot.jpg')\n",
    "\n",
    "# Plot the metrics\n",
    "plot_metrics(metrices)"
   ]
  },
  {
   "cell_type": "code",
   "execution_count": 12,
   "id": "a782136a-aef0-4be1-ad85-f679ab3ea8da",
   "metadata": {},
   "outputs": [
    {
     "data": {
      "image/png": "[encoded data removed]",
      "text/plain": [
       "<Figure size 640x480 with 1 Axes>"
      ]
     },
     "metadata": {},
     "output_type": "display_data"
    }
   ],
   "source": [
    "# Plot true values\n",
    "plt.scatter(range(len(y_test)), y_test, color='blue', label='True', marker='o')\n",
    "\n",
    "# Plot predicted values\n",
    "plt.scatter(range(len(prediction)), prediction, color='red', label='Predicted', marker='x')\n",
    "\n",
    "plt.xlabel('Sample Index')\n",
    "plt.ylabel('Class')\n",
    "plt.title('True vs Predicted Values')\n",
    "plt.legend()\n",
    "plt.savefig('true vs predicted plot.jpg')"
   ]
  },
  {
   "cell_type": "code",
   "execution_count": null,
   "id": "8eeb5c0e-f64c-457c-842b-faba3dd6034a",
   "metadata": {},
   "outputs": [],
   "source": []
  }
 ],
 "metadata": {
  "kernelspec": {
   "display_name": "Python 3 (ipykernel)",
   "language": "python",
   "name": "python3"
  },
  "language_info": {
   "codemirror_mode": {
    "name": "ipython",
    "version": 3
   },
   "file_extension": ".py",
   "mimetype": "text/x-python",
   "name": "python",
   "nbconvert_exporter": "python",
   "pygments_lexer": "ipython3",
   "version": "3.11.5"
  }
 },
 "nbformat": 4,
 "nbformat_minor": 5
}
